{
 "cells": [
  {
   "cell_type": "markdown",
   "id": "ee0e2f6c-52d3-4dae-a33f-e708c33b39b7",
   "metadata": {},
   "source": [
    "# Toy example - Fit a mixture of two Gaussians using GeoPVI"
   ]
  },
  {
   "cell_type": "markdown",
   "id": "3dd451fc-3133-4329-8894-4f8dc5a4764b",
   "metadata": {},
   "source": [
    "In this tutorial, we demonstrate how to use the GeoPVI package to perform a simple density estimation problem where the unknown probability distribution is a mixture of two Gaussians"
   ]
  },
  {
   "cell_type": "markdown",
   "id": "75424651-e9cc-44f2-89b4-2667a92f87b4",
   "metadata": {},
   "source": [
    "We will consider **normalising flows** and **boosting variational inference** (BVI). ADVI and PSVI essentially assume a Gaussian variational distribution thus are not suitable to fit a GMM."
   ]
  },
  {
   "cell_type": "markdown",
   "id": "988dc5c9-ebce-41cb-a5c3-475f2ba83563",
   "metadata": {},
   "source": [
    "## Import libraries"
   ]
  },
  {
   "cell_type": "code",
   "execution_count": 1,
   "id": "3e8ab871-d818-48da-a1b2-0d668cb76f92",
   "metadata": {},
   "outputs": [],
   "source": [
    "import numpy as np\n",
    "import matplotlib.pyplot as plt\n",
    "import seaborn as sns\n",
    "import torch\n",
    "from scipy.stats import norm\n",
    "import geopvi"
   ]
  },
  {
   "cell_type": "code",
   "execution_count": 2,
   "id": "111bf0b4-342a-4120-b961-f542a406b616",
   "metadata": {},
   "outputs": [],
   "source": [
    "torch.set_default_dtype(torch.float64)"
   ]
  },
  {
   "cell_type": "markdown",
   "id": "4c1679fb-3bed-44a8-aa1f-4d353200fc0e",
   "metadata": {},
   "source": [
    "## Define the target probability distribution"
   ]
  },
  {
   "cell_type": "markdown",
   "id": "886eb7dc-05cd-4d1e-b8ea-2fe2783925cb",
   "metadata": {},
   "source": [
    "In the following code block, we define the target probability distribution as a mixture of two Gaussians using torch.distributions - which will be inferred later in the tutorial using **_BVI_** and **_normalising flows_** provided in GeoPVI"
   ]
  },
  {
   "cell_type": "code",
   "execution_count": 3,
   "id": "5d6bbf2f-6dc3-42a3-840b-cf89a7e03fc1",
   "metadata": {},
   "outputs": [],
   "source": [
    "mix = torch.distributions.Categorical(torch.tensor([0.5, 0.5]))\n",
    "comp = torch.distributions.Normal(torch.tensor([-1, 1]), torch.tensor([0.4,0.6]))\n",
    "gmm = torch.distributions.MixtureSameFamily(mix, comp)"
   ]
  },
  {
   "cell_type": "code",
   "execution_count": 4,
   "id": "d66e5fe3-9c94-4453-9f4e-32a989efb8a1",
   "metadata": {},
   "outputs": [],
   "source": [
    "def mog(x):\n",
    "    tmp = gmm.log_prob(x)\n",
    "    return tmp"
   ]
  },
  {
   "cell_type": "code",
   "execution_count": 5,
   "id": "9ec28400-e361-47e9-bdf2-3ae1ff46cbb7",
   "metadata": {},
   "outputs": [],
   "source": [
    "x = np.arange(-10, 10, 0.001)"
   ]
  },
  {
   "cell_type": "code",
   "execution_count": 6,
   "id": "866c513f-14a7-4f8a-a430-7c6be8263f32",
   "metadata": {},
   "outputs": [
    {
     "data": {
      "image/png": "[encoded data removed]",
      "text/plain": [
       "<Figure size 432x288 with 1 Axes>"
      ]
     },
     "metadata": {
      "needs_background": "light"
     },
     "output_type": "display_data"
    }
   ],
   "source": [
    "plt.figure()\n",
    "plt.plot(x, np.exp(mog(torch.from_numpy(x[:,None]))), label = 'Target')\n",
    "plt.xlabel('x', fontsize = 14)\n",
    "plt.ylabel('Probability', fontsize = 14)\n",
    "plt.legend()\n",
    "plt.show()"
   ]
  },
  {
   "cell_type": "code",
   "execution_count": null,
   "id": "dfbf994b-93f9-4e12-9286-03e183aad150",
   "metadata": {},
   "outputs": [],
   "source": []
  },
  {
   "cell_type": "markdown",
   "id": "c1477a4c-e744-4fba-ab2f-0fdcb7d41066",
   "metadata": {},
   "source": [
    "## Inference using BVI"
   ]
  },
  {
   "cell_type": "code",
   "execution_count": 7,
   "id": "adde1467-ba79-4b13-8f73-8bd1882b7db7",
   "metadata": {},
   "outputs": [],
   "source": [
    "from geopvi.boostingvi.bvi import BoostingGaussian\n",
    "from geopvi.boostingvi.component import GaussianComponent"
   ]
  },
  {
   "cell_type": "markdown",
   "id": "b72715e6-c1b5-43ee-8756-114635abc0d5",
   "metadata": {},
   "source": [
    "### 1. Define a Gaussian component distribution"
   ]
  },
  {
   "cell_type": "markdown",
   "id": "5f243543-a293-4aa5-9a47-6b2578e56fa4",
   "metadata": {},
   "source": [
    "To solve this inference problem using BVI, we will need a component distribution which is a Gaussian distribution in this case"
   ]
  },
  {
   "cell_type": "markdown",
   "id": "f427aa2f-6e19-44b1-82f3-a7bb2ea1f494",
   "metadata": {},
   "source": [
    "We define a unconstrained Gaussian distribution as the component distribution, and a **Normal** base distribution. \n",
    "\n",
    "In GeoPVI, the Gaussian component distribution is defined by applying a Linear transform:\n",
    "- $\\mathbf{z} = \\mu + \\mathbf{L}\\mathbf{x}$\n",
    "\n",
    "where $\\mathbf{x}$ is distributed according to either a standard normal distribution N(0, I) or a Uniform distribution U(0, 1) - depending on the **base** distribution."
   ]
  },
  {
   "cell_type": "code",
   "execution_count": 8,
   "id": "d6e68e19-3e1f-4adc-a68f-72b7d6092f13",
   "metadata": {},
   "outputs": [],
   "source": [
    "component = GaussianComponent(dim = 1, perturb = 2, base = 'Normal', constrained = False)"
   ]
  },
  {
   "cell_type": "markdown",
   "id": "6f0ca2ff-7448-45b7-a338-43b4e9bbebf4",
   "metadata": {},
   "source": [
    "### 2. Define a boosting Gaussian model as the variational distribution"
   ]
  },
  {
   "cell_type": "markdown",
   "id": "b24bfc0b-a4c8-43a7-97a3-87f7158f9e3b",
   "metadata": {},
   "source": [
    "Then, we can define a bvi object by calling the _BoosingGaussian_ provided by GeoPVI, which requires:\n",
    "- a componentDistribution (the Gaussian component defined above)\n",
    "- a function to evaluate the log-probability value of the target distribution (**mog** in this case), which takes in model samples (torch.tensor) and output log-prob values\n",
    "- **lmb** is a function to calculate the regularisation coefficient used in BVI (see equation 10 in [Zhao & Curtis 2024 - JGR: solid Earth](https://agupubs.onlinelibrary.wiley.com/doi/full/10.1029/2023JB027789))\n",
    "- the weight for each new component distribution is initialised in an decreasing order"
   ]
  },
  {
   "cell_type": "code",
   "execution_count": 42,
   "id": "9a2a9690-0d1d-40f1-8568-bd5438ed45b9",
   "metadata": {},
   "outputs": [],
   "source": [
    "bvi = BoostingGaussian(componentDistribution = component, log_posterior = mog, lmb=lambda x: 1./(x+1)**0.5, weight_init='decreasing')"
   ]
  },
  {
   "cell_type": "markdown",
   "id": "c414213f-2277-43a9-9554-ea531c0975e7",
   "metadata": {},
   "source": [
    "In this test, we boost 10 Gaussian components. Each component is optimised by 5000 iterations and 5 samples per iteration for Monte Carlo integration."
   ]
  },
  {
   "cell_type": "code",
   "execution_count": 43,
   "id": "8b23244d-6611-424c-b142-49f9e246d39b",
   "metadata": {},
   "outputs": [],
   "source": [
    "n_comp = 10"
   ]
  },
  {
   "cell_type": "code",
   "execution_count": 44,
   "id": "95c2e821-86ad-4441-8cde-6a9b1a0d464e",
   "metadata": {},
   "outputs": [
    {
     "name": "stdout",
     "output_type": "stream",
     "text": [
      "----------------------------------------\n",
      "Optimizing component 1... \n",
      "Iteration:     0, \tLoss: 0.758379\n",
      "The elapsed time is:  0.002843141555786133\n",
      "Iteration:  5000, \tLoss: 0.326538\n",
      "The elapsed time is:  3.0158400535583496\n",
      "Optimization of component 1 complete\n",
      "\n",
      "----------------------------------------\n",
      "Optimizing component 2... \n",
      "Iteration:     0, \tLoss: 0.006414\n",
      "The elapsed time is:  0.0014026165008544922\n",
      "Iteration:  5000, \tLoss: -0.959393\n",
      "The elapsed time is:  4.529672622680664\n",
      "Optimization of component 2 complete\n",
      "\n",
      "----------------------------------------\n",
      "Optimizing component 3... \n",
      "Iteration:     0, \tLoss: 0.063059\n",
      "The elapsed time is:  0.0013077259063720703\n",
      "Iteration:  5000, \tLoss: -0.097349\n",
      "The elapsed time is:  4.5160768032073975\n",
      "Optimization of component 3 complete\n",
      "\n",
      "----------------------------------------\n",
      "Optimizing component 4... \n",
      "Iteration:     0, \tLoss: 31.090773\n",
      "The elapsed time is:  0.0014753341674804688\n",
      "Iteration:  5000, \tLoss: -0.432936\n",
      "The elapsed time is:  4.6806700229644775\n",
      "Optimization of component 4 complete\n",
      "\n",
      "----------------------------------------\n",
      "Optimizing component 5... \n",
      "Iteration:     0, \tLoss: 4.700338\n",
      "The elapsed time is:  0.0011525154113769531\n",
      "Iteration:  5000, \tLoss: -0.380027\n",
      "The elapsed time is:  4.539331436157227\n",
      "Optimization of component 5 complete\n",
      "\n",
      "----------------------------------------\n",
      "Optimizing component 6... \n",
      "Iteration:     0, \tLoss: 18.436865\n",
      "The elapsed time is:  0.001321554183959961\n",
      "Iteration:  5000, \tLoss: 0.049915\n",
      "The elapsed time is:  4.681684494018555\n",
      "Optimization of component 6 complete\n",
      "\n",
      "----------------------------------------\n",
      "Optimizing component 7... \n",
      "Iteration:     0, \tLoss: -0.368388\n",
      "The elapsed time is:  0.0013968944549560547\n",
      "Iteration:  5000, \tLoss: -1.000361\n",
      "The elapsed time is:  4.629979610443115\n",
      "Optimization of component 7 complete\n",
      "\n",
      "----------------------------------------\n",
      "Optimizing component 8... \n",
      "Iteration:     0, \tLoss: 20.379990\n",
      "The elapsed time is:  0.0013484954833984375\n",
      "Iteration:  5000, \tLoss: -0.091518\n",
      "The elapsed time is:  5.346310377120972\n",
      "Optimization of component 8 complete\n",
      "\n",
      "----------------------------------------\n",
      "Optimizing component 9... \n",
      "Iteration:     0, \tLoss: -0.017379\n",
      "The elapsed time is:  0.001252889633178711\n",
      "Iteration:  5000, \tLoss: -0.396015\n",
      "The elapsed time is:  5.0677783489227295\n",
      "Optimization of component 9 complete\n",
      "\n",
      "----------------------------------------\n",
      "Optimizing component 10... \n",
      "Iteration:     0, \tLoss: -0.119690\n",
      "The elapsed time is:  0.0013842582702636719\n",
      "Iteration:  5000, \tLoss: -0.263708\n",
      "The elapsed time is:  5.472511053085327\n",
      "Optimization of component 10 complete\n",
      "\n"
     ]
    }
   ],
   "source": [
    "results = bvi.update(ncomponent = n_comp, n_iter = 5000, nsample = 5, verbose = True, n_out = 1)"
   ]
  },
  {
   "cell_type": "markdown",
   "id": "6dd100a0-7e9a-41f8-ad50-fd96e23d6d34",
   "metadata": {},
   "source": [
    "### 3. Retrive the results and plot"
   ]
  },
  {
   "cell_type": "markdown",
   "id": "e74857bb-3319-4ace-8fa6-3a2a6667b7ed",
   "metadata": {},
   "source": [
    "Once training is finsihed, we can retrive the inversion results, which is a Python dictionary containing weights, mus and covariances of each Gaussian component.\n",
    "\n",
    "We can use these information to calculate the otained GMM variational distribution"
   ]
  },
  {
   "cell_type": "code",
   "execution_count": 45,
   "id": "3b20f78c-186d-41c6-a8d4-6b9c02c12833",
   "metadata": {},
   "outputs": [],
   "source": [
    "weight = results['weights'].numpy()\n",
    "mus = results['mus'].numpy()\n",
    "sigmas = results['stds'].numpy()"
   ]
  },
  {
   "cell_type": "code",
   "execution_count": 46,
   "id": "337c55c2-1df4-4453-85ea-3a9a31a68198",
   "metadata": {},
   "outputs": [],
   "source": [
    "marginal = np.zeros(x.shape[0])\n",
    "for i in range(n_comp):\n",
    "    marginal += norm.pdf(x, loc = mus[i,0], scale = sigmas[i, 0]) * weight[i]"
   ]
  },
  {
   "cell_type": "markdown",
   "id": "b7e19ead-efc9-4d82-a57d-7d93c9692b84",
   "metadata": {},
   "source": [
    "Alternatively, GeoPVI provides a **sample** function, so that you can directly draw samples from the boostingGaussian distribution."
   ]
  },
  {
   "cell_type": "code",
   "execution_count": 47,
   "id": "426ac793-1ce0-4a5f-a9a6-2433b25996d7",
   "metadata": {},
   "outputs": [],
   "source": [
    "samples = bvi.sample(nsamples = 5000)"
   ]
  },
  {
   "cell_type": "code",
   "execution_count": 48,
   "id": "fded9f7a-fc73-48c0-94ac-bf78df9e5b2b",
   "metadata": {},
   "outputs": [
    {
     "data": {
      "image/png": "[encoded data removed]",
      "text/plain": [
       "<Figure size 432x288 with 1 Axes>"
      ]
     },
     "metadata": {
      "needs_background": "light"
     },
     "output_type": "display_data"
    }
   ],
   "source": [
    "plt.figure()\n",
    "plt.plot(x, np.exp(mog(torch.from_numpy(x[:,None]))), label = 'Target', color = 'black')\n",
    "plt.xlabel('x', fontsize = 14)\n",
    "plt.ylabel('Probability', fontsize = 14)\n",
    "sns.histplot(samples, bins = 30, stat=\"density\", linewidth=1, fill=False, label = 'BVI - samples')\n",
    "plt.plot(x, marginal, label = 'BVI - analytic', color = 'red')\n",
    "plt.legend()\n",
    "plt.show()"
   ]
  },
  {
   "cell_type": "code",
   "execution_count": 29,
   "id": "4664a2ad-bec1-4f54-ba0b-f944a3e2da93",
   "metadata": {},
   "outputs": [
    {
     "data": {
      "image/png": "[encoded data removed]",
      "text/plain": [
       "<Figure size 432x288 with 1 Axes>"
      ]
     },
     "metadata": {
      "needs_background": "light"
     },
     "output_type": "display_data"
    }
   ],
   "source": [
    "plt.figure()\n",
    "plt.plot(x, np.exp(mog(torch.from_numpy(x[:,None]))), label = 'Target', color = 'black')\n",
    "plt.xlabel('x', fontsize = 14)\n",
    "plt.ylabel('Probability', fontsize = 14)\n",
    "sns.histplot(samples, bins = 30, stat=\"density\", linewidth=1, fill=False, label = 'BVI - samples')\n",
    "plt.plot(x, marginal, label = 'BVI - analytic', color = 'red')\n",
    "plt.legend()\n",
    "plt.show()"
   ]
  },
  {
   "cell_type": "code",
   "execution_count": null,
   "id": "b0d3aa71-f733-4aa6-90f0-3d61b2837d98",
   "metadata": {},
   "outputs": [],
   "source": []
  },
  {
   "cell_type": "markdown",
   "id": "e354aeaa-24c7-4a5f-ae75-ac8f2d741fcc",
   "metadata": {},
   "source": [
    "## Inference using normalising flows"
   ]
  },
  {
   "cell_type": "code",
   "execution_count": 16,
   "id": "1013a611-f731-453e-acf5-59b6dcec10f2",
   "metadata": {},
   "outputs": [],
   "source": [
    "from geopvi.nfvi.flows import Planar\n",
    "from geopvi.nfvi.models import FlowsBasedDistribution, VariationalInversion"
   ]
  },
  {
   "cell_type": "markdown",
   "id": "5f033c3c-de82-402c-92ed-c02b125654f9",
   "metadata": {},
   "source": [
    "### 1. Define a flows-based distribution"
   ]
  },
  {
   "cell_type": "markdown",
   "id": "33181e84-2357-4f04-ad9b-343f7216c057",
   "metadata": {},
   "source": [
    "Specifically in this example, we will use Planar flows ([Rezende & Mohaned, 2015](https://arxiv.org/abs/1505.05770)).\n",
    "\n",
    "We define a flows-based model as a combination of 5 planar flows, which is then used to define a variational distribution that is an FlowsBasedDistribution object provided by GeoPVI."
   ]
  },
  {
   "cell_type": "code",
   "execution_count": 36,
   "id": "d6934a1c-50db-47cf-af6a-e7076b20c92b",
   "metadata": {},
   "outputs": [],
   "source": [
    "flows = []\n",
    "for i in range(5):\n",
    "    flows += [Planar(dim = 1)]"
   ]
  },
  {
   "cell_type": "markdown",
   "id": "5659de7e-c33f-4a3c-8748-5573bc63f4f0",
   "metadata": {},
   "source": [
    "The base distribution is a Standard normal distribution N(0, I).\n",
    "\n",
    "ALternatively, you can also use a Uniform base distribution by setting **_base = 'Uniform'_**."
   ]
  },
  {
   "cell_type": "code",
   "execution_count": 37,
   "id": "b6339935-ad48-4af3-9cdc-3169fa60b674",
   "metadata": {},
   "outputs": [],
   "source": [
    "variational_pdf = FlowsBasedDistribution(flows = flows, base = 'Normal')"
   ]
  },
  {
   "cell_type": "markdown",
   "id": "55569fea-2f71-4211-921b-6afd59a65777",
   "metadata": {},
   "source": [
    "### 2. Perform variational inference - in this example we use a wrapper provided by GeoPVI."
   ]
  },
  {
   "cell_type": "markdown",
   "id": "9521d5fa-8949-4720-964f-ae8c1022972d",
   "metadata": {},
   "source": [
    "GeoPVI provides a wrapper to peroform variational inversion $-$ **VariationalInversion** clase, which encapsulate variational optimisation process in VariationalInversion.update() function.\n",
    "\n",
    "It takes the defined **FlowsBasedDistribution** and a function estimating the log-probability value of the target function as input."
   ]
  },
  {
   "cell_type": "code",
   "execution_count": 38,
   "id": "fb51e70d-8a46-4c03-ad2a-0e43ec369296",
   "metadata": {},
   "outputs": [],
   "source": [
    "nfvi = VariationalInversion(variationalDistribution = variational_pdf, log_posterior = mog)"
   ]
  },
  {
   "cell_type": "markdown",
   "id": "a1b2047b-e240-4200-a113-1ac2277e61c6",
   "metadata": {},
   "source": [
    "Variational inference will be performed by calling VariationalInversion.update() function, which will return the **negative ELBO** (loss function in this case) for each iteration."
   ]
  },
  {
   "cell_type": "code",
   "execution_count": 39,
   "id": "4beeefe3-4503-41b2-8d2f-4d199a9d7724",
   "metadata": {},
   "outputs": [
    {
     "name": "stdout",
     "output_type": "stream",
     "text": [
      "----------------------------------------\n",
      "\n",
      "Iteration:     0,\tLoss:       3.90\n",
      "The elapsed time is: 0.01 s\n",
      "Iteration:  1000,\tLoss:      -0.37\n",
      "The elapsed time is: 2.81 s\n",
      "Iteration:  2000,\tLoss:      -0.34\n",
      "The elapsed time is: 5.38 s\n",
      "Iteration:  3000,\tLoss:      -0.14\n",
      "The elapsed time is: 7.98 s\n",
      "Iteration:  4000,\tLoss:       0.11\n",
      "The elapsed time is: 10.66 s\n",
      "Iteration:  5000,\tLoss:       0.15\n",
      "The elapsed time is: 13.21 s\n",
      "----------------------------------------\n",
      "\n",
      "Finish training!\n"
     ]
    }
   ],
   "source": [
    "loss = nfvi.update(n_iter = 5000, nsample = 5, verbose = True, n_out = 5)"
   ]
  },
  {
   "cell_type": "code",
   "execution_count": null,
   "id": "fcd46938-296a-4de8-89fe-67404f939e9c",
   "metadata": {},
   "outputs": [],
   "source": []
  },
  {
   "cell_type": "markdown",
   "id": "dee089e8-f790-41c9-b88c-aaf84f5f92a5",
   "metadata": {},
   "source": [
    "### 3. Retrive the results and plot"
   ]
  },
  {
   "cell_type": "markdown",
   "id": "38b3cb2f-98dc-4fcc-b124-bf558996489a",
   "metadata": {},
   "source": [
    "FlowsBasedModel provide a **sample()** function to get samples from the obtained flows-based variational distribution."
   ]
  },
  {
   "cell_type": "code",
   "execution_count": 40,
   "id": "bbdff88d-f658-4957-a14f-e9c1e0fc45ba",
   "metadata": {},
   "outputs": [],
   "source": [
    "samples_nf = variational_pdf.sample(nsamples = 5000).data.numpy()"
   ]
  },
  {
   "cell_type": "code",
   "execution_count": 41,
   "id": "96f4a786-4119-49c5-bca9-5895db22dca9",
   "metadata": {},
   "outputs": [
    {
     "data": {
      "image/png": "[encoded data removed]",
      "text/plain": [
       "<Figure size 432x288 with 1 Axes>"
      ]
     },
     "metadata": {
      "needs_background": "light"
     },
     "output_type": "display_data"
    }
   ],
   "source": [
    "plt.figure()\n",
    "plt.plot(x, np.exp(mog(torch.from_numpy(x[:,None]))), label = 'Target', color = 'black')\n",
    "sns.histplot(samples_nf, bins = 30, stat=\"density\", linewidth=0, fill=True, label = 'normlaising flows')\n",
    "plt.xlabel('x', fontsize = 14)\n",
    "plt.ylabel('Probability', fontsize = 14)\n",
    "plt.legend()\n",
    "plt.show()"
   ]
  },
  {
   "cell_type": "code",
   "execution_count": null,
   "id": "0c80ffbd-d317-4cd5-8304-3bb0bedd7f09",
   "metadata": {},
   "outputs": [],
   "source": []
  }
 ],
 "metadata": {
  "kernelspec": {
   "display_name": "(intel-2020) Python 3",
   "language": "python",
   "name": "conda-env-intel-2020-py"
  },
  "language_info": {
   "codemirror_mode": {
    "name": "ipython",
    "version": 3
   },
   "file_extension": ".py",
   "mimetype": "text/x-python",
   "name": "python",
   "nbconvert_exporter": "python",
   "pygments_lexer": "ipython3",
   "version": "3.7.10"
  }
 },
 "nbformat": 4,
 "nbformat_minor": 5
}
